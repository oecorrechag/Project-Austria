{
 "cells": [
  {
   "cell_type": "markdown",
   "id": "72618993",
   "metadata": {},
   "source": [
    "# 1.0 Download data"
   ]
  },
  {
   "cell_type": "code",
   "execution_count": 1,
   "id": "23020546",
   "metadata": {},
   "outputs": [],
   "source": [
    "%load_ext autoreload\n",
    "%autoreload 2"
   ]
  },
  {
   "cell_type": "code",
   "execution_count": 2,
   "id": "a3aca70f",
   "metadata": {},
   "outputs": [],
   "source": [
    "import pandas as pd\n",
    "import numpy as np\n",
    "\n",
    "pd.set_option('display.max_columns', None)\n",
    "pd.set_option('display.max_rows', None)\n",
    "import warnings\n",
    "warnings.filterwarnings(\"ignore\")"
   ]
  },
  {
   "cell_type": "code",
   "execution_count": 3,
   "id": "2bc9afc8",
   "metadata": {},
   "outputs": [],
   "source": [
    "import sys\n",
    "sys.path.append(\"../\") \n",
    "\n",
    "import utils.paths as path\n",
    "from utils.paths2 import direcciones"
   ]
  },
  {
   "cell_type": "code",
   "execution_count": 4,
   "id": "8da0074f",
   "metadata": {},
   "outputs": [],
   "source": [
    "# Crear los de drive\n",
    "G_raw, G_processed, G_interim, G_external, G_models, G_reports, G_reports_figures = direcciones('temperature')"
   ]
  },
  {
   "cell_type": "code",
   "execution_count": 13,
   "id": "cf2e0b3f",
   "metadata": {},
   "outputs": [
    {
     "data": {
      "text/html": [
       "<div>\n",
       "<style scoped>\n",
       "    .dataframe tbody tr th:only-of-type {\n",
       "        vertical-align: middle;\n",
       "    }\n",
       "\n",
       "    .dataframe tbody tr th {\n",
       "        vertical-align: top;\n",
       "    }\n",
       "\n",
       "    .dataframe thead th {\n",
       "        text-align: right;\n",
       "    }\n",
       "</style>\n",
       "<table border=\"1\" class=\"dataframe\">\n",
       "  <thead>\n",
       "    <tr style=\"text-align: right;\">\n",
       "      <th></th>\n",
       "      <th>Año</th>\n",
       "      <th>Mes</th>\n",
       "      <th>Temperatura Máxima</th>\n",
       "      <th>Temperatura Mínima</th>\n",
       "      <th>Temperatura promedio</th>\n",
       "      <th>Enos</th>\n",
       "    </tr>\n",
       "  </thead>\n",
       "  <tbody>\n",
       "    <tr>\n",
       "      <th>0</th>\n",
       "      <td>2007</td>\n",
       "      <td>Enero</td>\n",
       "      <td>26.4</td>\n",
       "      <td>4.4</td>\n",
       "      <td>14.11</td>\n",
       "      <td>Niño</td>\n",
       "    </tr>\n",
       "    <tr>\n",
       "      <th>1</th>\n",
       "      <td>2007</td>\n",
       "      <td>Febrero</td>\n",
       "      <td>25.4</td>\n",
       "      <td>-4.6</td>\n",
       "      <td>13.48</td>\n",
       "      <td>Neutro</td>\n",
       "    </tr>\n",
       "    <tr>\n",
       "      <th>2</th>\n",
       "      <td>2007</td>\n",
       "      <td>Marzo</td>\n",
       "      <td>24.0</td>\n",
       "      <td>5.1</td>\n",
       "      <td>14.23</td>\n",
       "      <td>Neutro</td>\n",
       "    </tr>\n",
       "    <tr>\n",
       "      <th>3</th>\n",
       "      <td>2007</td>\n",
       "      <td>Abril</td>\n",
       "      <td>23.0</td>\n",
       "      <td>6.6</td>\n",
       "      <td>14.75</td>\n",
       "      <td>Neutro</td>\n",
       "    </tr>\n",
       "    <tr>\n",
       "      <th>4</th>\n",
       "      <td>2007</td>\n",
       "      <td>Mayo</td>\n",
       "      <td>21.9</td>\n",
       "      <td>5.9</td>\n",
       "      <td>13.26</td>\n",
       "      <td>Neutro</td>\n",
       "    </tr>\n",
       "  </tbody>\n",
       "</table>\n",
       "</div>"
      ],
      "text/plain": [
       "    Año      Mes  Temperatura Máxima  Temperatura Mínima  \\\n",
       "0  2007    Enero                26.4                 4.4   \n",
       "1  2007  Febrero                25.4                -4.6   \n",
       "2  2007    Marzo                24.0                 5.1   \n",
       "3  2007    Abril                23.0                 6.6   \n",
       "4  2007     Mayo                21.9                 5.9   \n",
       "\n",
       "   Temperatura promedio   Enos   \n",
       "0                 14.11    Niño  \n",
       "1                 13.48  Neutro  \n",
       "2                 14.23  Neutro  \n",
       "3                 14.75  Neutro  \n",
       "4                 13.26  Neutro  "
      ]
     },
     "execution_count": 13,
     "metadata": {},
     "output_type": "execute_result"
    }
   ],
   "source": [
    "# read data\n",
    "df = pd.read_csv(path.data_raw_dir('osb_temperatura.csv'), sep=';', decimal=',', encoding = 'latin1')\n",
    "# df = pd.read_csv(G_raw/'osb_temperatura.csv', sep=';', decimal=',', encoding = 'latin1')\n",
    "df.head()"
   ]
  },
  {
   "cell_type": "code",
   "execution_count": 14,
   "id": "995ca555",
   "metadata": {},
   "outputs": [
    {
     "data": {
      "text/html": [
       "<div>\n",
       "<style scoped>\n",
       "    .dataframe tbody tr th:only-of-type {\n",
       "        vertical-align: middle;\n",
       "    }\n",
       "\n",
       "    .dataframe tbody tr th {\n",
       "        vertical-align: top;\n",
       "    }\n",
       "\n",
       "    .dataframe thead th {\n",
       "        text-align: right;\n",
       "    }\n",
       "</style>\n",
       "<table border=\"1\" class=\"dataframe\">\n",
       "  <thead>\n",
       "    <tr style=\"text-align: right;\">\n",
       "      <th></th>\n",
       "      <th>Año</th>\n",
       "      <th>Temperatura Máxima</th>\n",
       "      <th>Temperatura Mínima</th>\n",
       "      <th>Temperatura promedio</th>\n",
       "    </tr>\n",
       "  </thead>\n",
       "  <tbody>\n",
       "    <tr>\n",
       "      <th>count</th>\n",
       "      <td>180.000000</td>\n",
       "      <td>180.000000</td>\n",
       "      <td>180.000000</td>\n",
       "      <td>180.000000</td>\n",
       "    </tr>\n",
       "    <tr>\n",
       "      <th>mean</th>\n",
       "      <td>2014.077778</td>\n",
       "      <td>24.671667</td>\n",
       "      <td>5.172222</td>\n",
       "      <td>14.396833</td>\n",
       "    </tr>\n",
       "    <tr>\n",
       "      <th>std</th>\n",
       "      <td>4.331843</td>\n",
       "      <td>1.692714</td>\n",
       "      <td>1.860830</td>\n",
       "      <td>0.663212</td>\n",
       "    </tr>\n",
       "    <tr>\n",
       "      <th>min</th>\n",
       "      <td>2007.000000</td>\n",
       "      <td>19.800000</td>\n",
       "      <td>-4.600000</td>\n",
       "      <td>11.430000</td>\n",
       "    </tr>\n",
       "    <tr>\n",
       "      <th>25%</th>\n",
       "      <td>2010.000000</td>\n",
       "      <td>23.575000</td>\n",
       "      <td>4.200000</td>\n",
       "      <td>14.047500</td>\n",
       "    </tr>\n",
       "    <tr>\n",
       "      <th>50%</th>\n",
       "      <td>2014.000000</td>\n",
       "      <td>24.550000</td>\n",
       "      <td>5.300000</td>\n",
       "      <td>14.395000</td>\n",
       "    </tr>\n",
       "    <tr>\n",
       "      <th>75%</th>\n",
       "      <td>2018.000000</td>\n",
       "      <td>25.800000</td>\n",
       "      <td>6.500000</td>\n",
       "      <td>14.760000</td>\n",
       "    </tr>\n",
       "    <tr>\n",
       "      <th>max</th>\n",
       "      <td>2021.000000</td>\n",
       "      <td>29.700000</td>\n",
       "      <td>9.100000</td>\n",
       "      <td>16.190000</td>\n",
       "    </tr>\n",
       "  </tbody>\n",
       "</table>\n",
       "</div>"
      ],
      "text/plain": [
       "               Año  Temperatura Máxima  Temperatura Mínima  \\\n",
       "count   180.000000          180.000000          180.000000   \n",
       "mean   2014.077778           24.671667            5.172222   \n",
       "std       4.331843            1.692714            1.860830   \n",
       "min    2007.000000           19.800000           -4.600000   \n",
       "25%    2010.000000           23.575000            4.200000   \n",
       "50%    2014.000000           24.550000            5.300000   \n",
       "75%    2018.000000           25.800000            6.500000   \n",
       "max    2021.000000           29.700000            9.100000   \n",
       "\n",
       "       Temperatura promedio  \n",
       "count            180.000000  \n",
       "mean              14.396833  \n",
       "std                0.663212  \n",
       "min               11.430000  \n",
       "25%               14.047500  \n",
       "50%               14.395000  \n",
       "75%               14.760000  \n",
       "max               16.190000  "
      ]
     },
     "execution_count": 14,
     "metadata": {},
     "output_type": "execute_result"
    }
   ],
   "source": [
    "df.describe()"
   ]
  },
  {
   "cell_type": "code",
   "execution_count": 18,
   "id": "174151c2",
   "metadata": {},
   "outputs": [
    {
     "data": {
      "text/plain": [
       "Index(['Año', 'Mes', 'Temperatura Máxima', 'Temperatura Mínima',\n",
       "       'Temperatura promedio', 'Enos '],\n",
       "      dtype='object')"
      ]
     },
     "execution_count": 18,
     "metadata": {},
     "output_type": "execute_result"
    }
   ],
   "source": [
    "df.columns"
   ]
  },
  {
   "cell_type": "code",
   "execution_count": 15,
   "id": "e406bede",
   "metadata": {},
   "outputs": [
    {
     "name": "stdout",
     "output_type": "stream",
     "text": [
      "minimum duration:  2007\n",
      "maximun duration:  2021\n"
     ]
    }
   ],
   "source": [
    "print('minimum year: ', df.Año.min())\n",
    "print('maximun year: ',df.Año.max())"
   ]
  },
  {
   "cell_type": "code",
   "execution_count": 20,
   "id": "4f07f633",
   "metadata": {},
   "outputs": [
    {
     "name": "stdout",
     "output_type": "stream",
     "text": [
      "minimum temperature:  -4.6\n",
      "maximun temperature:  29.7\n",
      "average temperature:  14.39683333333333\n"
     ]
    }
   ],
   "source": [
    "print('minimum temperature: ', df['Temperatura Mínima'].min())\n",
    "print('maximun temperature: ',df['Temperatura Máxima'].max())\n",
    "print('average temperature: ',df['Temperatura promedio'].mean())"
   ]
  },
  {
   "cell_type": "code",
   "execution_count": 21,
   "id": "c15c90ad",
   "metadata": {},
   "outputs": [
    {
     "data": {
      "text/plain": [
       "count        180\n",
       "unique         3\n",
       "top       Neutro\n",
       "freq          82\n",
       "Name: Enos , dtype: object"
      ]
     },
     "execution_count": 21,
     "metadata": {},
     "output_type": "execute_result"
    }
   ],
   "source": [
    "df['Enos '].describe()"
   ]
  },
  {
   "cell_type": "code",
   "execution_count": 22,
   "id": "0cd317f4",
   "metadata": {},
   "outputs": [
    {
     "data": {
      "text/plain": [
       "(180, 6)"
      ]
     },
     "execution_count": 22,
     "metadata": {},
     "output_type": "execute_result"
    }
   ],
   "source": [
    "df.shape"
   ]
  },
  {
   "cell_type": "markdown",
   "id": "20c6ee17",
   "metadata": {},
   "source": [
    "osb_temperatura dataset contains 180 records and 6 columns."
   ]
  }
 ],
 "metadata": {
  "kernelspec": {
   "display_name": "Python 3 (ipykernel)",
   "language": "python",
   "name": "python3"
  },
  "language_info": {
   "codemirror_mode": {
    "name": "ipython",
    "version": 3
   },
   "file_extension": ".py",
   "mimetype": "text/x-python",
   "name": "python",
   "nbconvert_exporter": "python",
   "pygments_lexer": "ipython3",
   "version": "3.9.12"
  },
  "vscode": {
   "interpreter": {
    "hash": "11938c6bc6919ae2720b4d5011047913343b08a43b18698fd82dedb0d4417594"
   }
  }
 },
 "nbformat": 4,
 "nbformat_minor": 5
}
