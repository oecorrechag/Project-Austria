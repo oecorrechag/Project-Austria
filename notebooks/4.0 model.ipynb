{
 "cells": [
  {
   "cell_type": "markdown",
   "id": "4ae205ad",
   "metadata": {},
   "source": [
    "# AIMS"
   ]
  },
  {
   "cell_type": "code",
   "execution_count": 1,
   "id": "ce7633bc",
   "metadata": {},
   "outputs": [],
   "source": [
    "%load_ext autoreload\n",
    "%autoreload 2"
   ]
  },
  {
   "cell_type": "code",
   "execution_count": 2,
   "id": "8535cf78",
   "metadata": {},
   "outputs": [],
   "source": [
    "import pandas as pd\n",
    "import datetime\n",
    "import plotly.express as px\n",
    "\n",
    "pd.set_option('display.max_columns', None)\n",
    "pd.set_option('display.max_rows', None)\n",
    "import warnings\n",
    "warnings.filterwarnings(\"ignore\")"
   ]
  },
  {
   "cell_type": "code",
   "execution_count": 3,
   "id": "a0f43b55",
   "metadata": {},
   "outputs": [],
   "source": [
    "import sys\n",
    "sys.path.append(\"../\") \n",
    "\n",
    "import utils.paths as path\n",
    "from utils.paths2 import direcciones"
   ]
  },
  {
   "cell_type": "code",
   "execution_count": 4,
   "id": "286e4701",
   "metadata": {},
   "outputs": [],
   "source": [
    "# Crear los de drive\n",
    "G_raw, G_processed, G_interim, G_external, G_models, G_reports, G_reports_figures = direcciones('temperature')"
   ]
  },
  {
   "cell_type": "code",
   "execution_count": 5,
   "id": "2de2b129",
   "metadata": {},
   "outputs": [
    {
     "data": {
      "text/html": [
       "<div>\n",
       "<style scoped>\n",
       "    .dataframe tbody tr th:only-of-type {\n",
       "        vertical-align: middle;\n",
       "    }\n",
       "\n",
       "    .dataframe tbody tr th {\n",
       "        vertical-align: top;\n",
       "    }\n",
       "\n",
       "    .dataframe thead th {\n",
       "        text-align: right;\n",
       "    }\n",
       "</style>\n",
       "<table border=\"1\" class=\"dataframe\">\n",
       "  <thead>\n",
       "    <tr style=\"text-align: right;\">\n",
       "      <th></th>\n",
       "      <th>date</th>\n",
       "      <th>t_max</th>\n",
       "      <th>t_min</th>\n",
       "      <th>t_mean</th>\n",
       "      <th>fenomeno</th>\n",
       "    </tr>\n",
       "  </thead>\n",
       "  <tbody>\n",
       "    <tr>\n",
       "      <th>0</th>\n",
       "      <td>2007-01-01</td>\n",
       "      <td>26.4</td>\n",
       "      <td>4.4</td>\n",
       "      <td>14.11</td>\n",
       "      <td>1</td>\n",
       "    </tr>\n",
       "    <tr>\n",
       "      <th>1</th>\n",
       "      <td>2007-02-01</td>\n",
       "      <td>25.4</td>\n",
       "      <td>-4.6</td>\n",
       "      <td>13.48</td>\n",
       "      <td>0</td>\n",
       "    </tr>\n",
       "    <tr>\n",
       "      <th>2</th>\n",
       "      <td>2007-03-01</td>\n",
       "      <td>24.0</td>\n",
       "      <td>5.1</td>\n",
       "      <td>14.23</td>\n",
       "      <td>0</td>\n",
       "    </tr>\n",
       "    <tr>\n",
       "      <th>3</th>\n",
       "      <td>2007-04-01</td>\n",
       "      <td>23.0</td>\n",
       "      <td>6.6</td>\n",
       "      <td>14.75</td>\n",
       "      <td>0</td>\n",
       "    </tr>\n",
       "    <tr>\n",
       "      <th>4</th>\n",
       "      <td>2007-05-01</td>\n",
       "      <td>21.9</td>\n",
       "      <td>5.9</td>\n",
       "      <td>13.26</td>\n",
       "      <td>0</td>\n",
       "    </tr>\n",
       "  </tbody>\n",
       "</table>\n",
       "</div>"
      ],
      "text/plain": [
       "        date  t_max  t_min  t_mean fenomeno\n",
       "0 2007-01-01   26.4    4.4   14.11        1\n",
       "1 2007-02-01   25.4   -4.6   13.48        0\n",
       "2 2007-03-01   24.0    5.1   14.23        0\n",
       "3 2007-04-01   23.0    6.6   14.75        0\n",
       "4 2007-05-01   21.9    5.9   13.26        0"
      ]
     },
     "execution_count": 5,
     "metadata": {},
     "output_type": "execute_result"
    }
   ],
   "source": [
    "# read data\n",
    "# df = pd.read_parquet(path.data_processed_dir('dataset.parquet.gzip'))\n",
    "df = pd.read_parquet(G_processed/'dataset.parquet.gzip')\n",
    "df.head()"
   ]
  },
  {
   "cell_type": "code",
   "execution_count": null,
   "id": "37e19b1a",
   "metadata": {},
   "outputs": [],
   "source": []
  }
 ],
 "metadata": {
  "kernelspec": {
   "display_name": "Python 3 (ipykernel)",
   "language": "python",
   "name": "python3"
  },
  "language_info": {
   "codemirror_mode": {
    "name": "ipython",
    "version": 3
   },
   "file_extension": ".py",
   "mimetype": "text/x-python",
   "name": "python",
   "nbconvert_exporter": "python",
   "pygments_lexer": "ipython3",
   "version": "3.9.12"
  }
 },
 "nbformat": 4,
 "nbformat_minor": 5
}
